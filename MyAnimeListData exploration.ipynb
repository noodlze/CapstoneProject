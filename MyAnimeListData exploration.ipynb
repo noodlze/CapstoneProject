{
 "cells": [
  {
   "cell_type": "code",
   "execution_count": 1,
   "metadata": {},
   "outputs": [],
   "source": [
    "import pandas as pd\n",
    "import matplotlib.pyplot as plt"
   ]
  },
  {
   "cell_type": "markdown",
   "metadata": {},
   "source": [
    "### using cleaned data"
   ]
  },
  {
   "cell_type": "code",
   "execution_count": 2,
   "metadata": {},
   "outputs": [
    {
     "name": "stdout",
     "output_type": "stream",
     "text": [
      "<class 'pandas.core.frame.DataFrame'>\n",
      "RangeIndex: 6668 entries, 0 to 6667\n",
      "Data columns (total 33 columns):\n",
      "anime_id           6668 non-null int64\n",
      "title              6668 non-null object\n",
      "title_english      3438 non-null object\n",
      "title_japanese     6663 non-null object\n",
      "title_synonyms     4481 non-null object\n",
      "image_url          6666 non-null object\n",
      "type               6668 non-null object\n",
      "source             6668 non-null object\n",
      "episodes           6668 non-null int64\n",
      "status             6668 non-null object\n",
      "airing             6668 non-null bool\n",
      "aired_string       6668 non-null object\n",
      "aired              6668 non-null object\n",
      "duration           6668 non-null object\n",
      "rating             6668 non-null object\n",
      "score              6668 non-null float64\n",
      "scored_by          6668 non-null int64\n",
      "rank               6312 non-null float64\n",
      "popularity         6668 non-null int64\n",
      "members            6668 non-null int64\n",
      "favorites          6668 non-null int64\n",
      "background         813 non-null object\n",
      "premiered          2966 non-null object\n",
      "broadcast          2980 non-null object\n",
      "related            6668 non-null object\n",
      "producer           4402 non-null object\n",
      "licensor           2787 non-null object\n",
      "studio             6668 non-null object\n",
      "genre              6664 non-null object\n",
      "opening_theme      6668 non-null object\n",
      "ending_theme       6668 non-null object\n",
      "duration_min       6668 non-null float64\n",
      "aired_from_year    6668 non-null float64\n",
      "dtypes: bool(1), float64(4), int64(6), object(22)\n",
      "memory usage: 1.6+ MB\n"
     ]
    }
   ],
   "source": [
    "AnimesDF = pd.read_csv('myanimelist/anime_cleaned.csv')\n",
    "AnimesDF.info()"
   ]
  },
  {
   "cell_type": "code",
   "execution_count": 3,
   "metadata": {
    "scrolled": true
   },
   "outputs": [
    {
     "name": "stdout",
     "output_type": "stream",
     "text": [
      "<class 'pandas.core.frame.DataFrame'>\n",
      "RangeIndex: 108711 entries, 0 to 108710\n",
      "Data columns (total 17 columns):\n",
      "username                    108710 non-null object\n",
      "user_id                     108711 non-null int64\n",
      "user_watching               108711 non-null int64\n",
      "user_completed              108711 non-null int64\n",
      "user_onhold                 108711 non-null int64\n",
      "user_dropped                108711 non-null int64\n",
      "user_plantowatch            108711 non-null int64\n",
      "user_days_spent_watching    108711 non-null float64\n",
      "gender                      108711 non-null object\n",
      "location                    108706 non-null object\n",
      "birth_date                  108711 non-null object\n",
      "access_rank                 0 non-null float64\n",
      "join_date                   108711 non-null object\n",
      "last_online                 108711 non-null object\n",
      "stats_mean_score            108711 non-null float64\n",
      "stats_rewatched             108711 non-null float64\n",
      "stats_episodes              108711 non-null int64\n",
      "dtypes: float64(4), int64(7), object(6)\n",
      "memory usage: 14.1+ MB\n"
     ]
    }
   ],
   "source": [
    "UsersDF = pd.read_csv('myanimelist/users_cleaned.csv')\n",
    "UsersDF.info()"
   ]
  },
  {
   "cell_type": "code",
   "execution_count": 4,
   "metadata": {},
   "outputs": [
    {
     "name": "stdout",
     "output_type": "stream",
     "text": [
      "<class 'pandas.core.frame.DataFrame'>\n",
      "RangeIndex: 31284030 entries, 0 to 31284029\n",
      "Data columns (total 11 columns):\n",
      "username               object\n",
      "anime_id               int64\n",
      "my_watched_episodes    int64\n",
      "my_start_date          object\n",
      "my_finish_date         object\n",
      "my_score               int64\n",
      "my_status              int64\n",
      "my_rewatching          float64\n",
      "my_rewatching_ep       int64\n",
      "my_last_updated        object\n",
      "my_tags                object\n",
      "dtypes: float64(1), int64(5), object(5)\n",
      "memory usage: 2.6+ GB\n"
     ]
    }
   ],
   "source": [
    "ScoresDF = pd.read_csv('myanimelist/animelists_cleaned.csv')\n",
    "ScoresDF.info()\n",
    "#only take the columns that are important for the recommendation system\n",
    "ScoresDF = ScoresDF[['username', 'anime_id', 'my_score', 'my_status']]"
   ]
  },
  {
   "cell_type": "code",
   "execution_count": 46,
   "metadata": {},
   "outputs": [
    {
     "name": "stdout",
     "output_type": "stream",
     "text": [
      "<class 'pandas.core.frame.DataFrame'>\n",
      "RangeIndex: 108709 entries, 0 to 108708\n",
      "Data columns (total 2 columns):\n",
      "username        108709 non-null object\n",
      "animes_rated    108709 non-null int64\n",
      "dtypes: int64(1), object(1)\n",
      "memory usage: 1.7+ MB\n",
      "None\n"
     ]
    }
   ],
   "source": [
    "# Counting how many relevant scores each user have done, resetting the index (so the series could become a DF again) and changing the column names\n",
    "UsersAndScores = ScoresDF['username'].value_counts().reset_index().rename(columns={\"username\": \"animes_rated\", \"index\": \"username\"})\n",
    "print(UsersAndScores.info())"
   ]
  },
  {
   "cell_type": "markdown",
   "metadata": {},
   "source": [
    "### Threshold for animes_rated\n",
    "when animes_rates >= 28 -> we lose 10% of the data"
   ]
  },
  {
   "cell_type": "code",
   "execution_count": 51,
   "metadata": {},
   "outputs": [
    {
     "name": "stdout",
     "output_type": "stream",
     "text": [
      "\n",
      "Users who rated 28+ animes:\n",
      "\n",
      "       username  animes_rated\n",
      "0        Exxorn          6536\n",
      "1       uemmega          6367\n",
      "2    JakCooper2          5923\n",
      "3  DeadlyKizuna          5912\n",
      "4   KanaenuYume          5234\n",
      "<class 'pandas.core.frame.DataFrame'>\n",
      "Int64Index: 97960 entries, 0 to 97959\n",
      "Data columns (total 2 columns):\n",
      "username        97960 non-null object\n",
      "animes_rated    97960 non-null int64\n",
      "dtypes: int64(1), object(1)\n",
      "memory usage: 2.2+ MB\n",
      "None\n",
      "       animes_rated\n",
      "count  97960.000000\n",
      "mean     317.918763\n",
      "std      316.730077\n",
      "min       28.000000\n",
      "25%      113.000000\n",
      "50%      225.000000\n",
      "75%      414.000000\n",
      "max     6536.000000\n"
     ]
    },
    {
     "data": {
      "image/png": "[encoded data removed]",
      "text/plain": [
       "<Figure size 432x288 with 1 Axes>"
      ]
     },
     "metadata": {
      "needs_background": "light"
     },
     "output_type": "display_data"
    }
   ],
   "source": [
    "UsersAndScores['animes_rated'].hist( cumulative = True, histtype='step', bins=100, color='tab:orange')\n",
    "UsersAndScores['animes_rated'].quantile(0.1) # 10th percentile = 28\n",
    "UsersWith214plusRatings=UsersAndScores.loc[UsersAndScores['animes_rated'] >= 28]\n",
    "print(\"\\nUsers who rated 28+ animes:\\n\")\n",
    "print(UsersWith28plusRatings.head())\n",
    "print(UsersWith28plusRatings.info())\n",
    "print(UsersWith28plusRatings.describe())"
   ]
  },
  {
   "cell_type": "markdown",
   "metadata": {},
   "source": [
    "**how to determine weight based on distribution of animes_rated**?"
   ]
  },
  {
   "cell_type": "markdown",
   "metadata": {},
   "source": [
    "## OLD EXPLORATION CODE SNIPPETS"
   ]
  },
  {
   "cell_type": "code",
   "execution_count": 34,
   "metadata": {},
   "outputs": [
    {
     "name": "stdout",
     "output_type": "stream",
     "text": [
      "<class 'pandas.core.frame.DataFrame'>\n",
      "Int64Index: 108709 entries, 108708 to 0\n",
      "Data columns (total 2 columns):\n",
      "username        108709 non-null object\n",
      "animes_rated    108709 non-null int64\n",
      "dtypes: int64(1), object(1)\n",
      "memory usage: 2.5+ MB\n",
      "None\n",
      "287.7755015684074\n",
      "\n",
      "No of users grouped by no of animes rate:\n",
      "\n",
      "<class 'pandas.core.frame.DataFrame'>\n",
      "RangeIndex: 2140 entries, 0 to 2139\n",
      "Data columns (total 2 columns):\n",
      "animes_rated                              2140 non-null int64\n",
      "no of users who made this many ratings    2140 non-null int64\n",
      "dtypes: int64(2)\n",
      "memory usage: 33.5 KB\n",
      "None\n"
     ]
    }
   ],
   "source": [
    "UsersAndScores.sort_values(by=['animes_rated'], inplace=True)\n",
    "print(UsersAndScores.info())\n",
    "print(UsersAndScores['animes_rated'].mean()) # 287.7755015684074\n",
    "animes_rated_user_count=UsersAndScores.groupby('animes_rated').size().reset_index(name='no of users who made this many ratings')\n",
    "print(\"\\nNo of users grouped by no of animes rate:\\n\")\n",
    "print(animes_rated_user_count.info())"
   ]
  },
  {
   "cell_type": "code",
   "execution_count": 53,
   "metadata": {},
   "outputs": [
    {
     "data": {
      "image/png": "[encoded data removed]",
      "text/plain": [
       "<Figure size 432x288 with 1 Axes>"
      ]
     },
     "metadata": {
      "needs_background": "light"
     },
     "output_type": "display_data"
    }
   ],
   "source": [
    "plt.suptitle(\"No of animes rated by users\", fontsize=13, fontweight=0, color='black', style='italic', y=1.02)\n",
    "plt.plot('animes_rated', 'no of users who made this many ratings', data = animes_rated_user_count, color = 'blue')\n",
    "plt.xlabel('Number of animes rated')\n",
    "plt.ylabel('Number of people in that group')\n",
    "plt.xlim(left = 0, right = 2000)\n",
    "plt.show()"
   ]
  },
  {
   "cell_type": "code",
   "execution_count": 52,
   "metadata": {},
   "outputs": [
    {
     "data": {
      "image/png": "[encoded data removed]",
      "text/plain": [
       "<Figure size 432x288 with 1 Axes>"
      ]
     },
     "metadata": {
      "needs_background": "light"
     },
     "output_type": "display_data"
    }
   ],
   "source": [
    "fig = plt.figure()\n",
    "ax = fig.add_subplot(111)\n",
    "ax.boxplot([animes_rated_user_count['animes_rated']], notch = True, labels=['animes_rated']);\n",
    "# median is about 1000\n",
    "# many outliers "
   ]
  },
  {
   "cell_type": "code",
   "execution_count": null,
   "metadata": {},
   "outputs": [],
   "source": []
  },
  {
   "cell_type": "code",
   "execution_count": 23,
   "metadata": {},
   "outputs": [
    {
     "data": {
      "image/png": "[encoded data removed]",
      "text/plain": [
       "<Figure size 432x288 with 1 Axes>"
      ]
     },
     "metadata": {
      "needs_background": "light"
     },
     "output_type": "display_data"
    }
   ],
   "source": [
    "fig2 = plt.figure()\n",
    "ax1 = fig2.add_subplot(111)\n",
    "ax1.boxplot([animes_rated_user_count['no of users who made this many ratings']], notch = True, labels=['no of users who made this many ratings']);"
   ]
  },
  {
   "cell_type": "code",
   "execution_count": 9,
   "metadata": {},
   "outputs": [],
   "source": [
    "# merge user info and usersAndScore(no of animes they rated) tables\n",
    "UserInfoAndScores = pd.merge(UsersAndScores, UsersDF, left_on = 'username', right_on = 'username', how = 'inner')"
   ]
  },
  {
   "cell_type": "code",
   "execution_count": 10,
   "metadata": {},
   "outputs": [
    {
     "data": {
      "text/html": [
       "<div>\n",
       "<style scoped>\n",
       "    .dataframe tbody tr th:only-of-type {\n",
       "        vertical-align: middle;\n",
       "    }\n",
       "\n",
       "    .dataframe tbody tr th {\n",
       "        vertical-align: top;\n",
       "    }\n",
       "\n",
       "    .dataframe thead th {\n",
       "        text-align: right;\n",
       "    }\n",
       "</style>\n",
       "<table border=\"1\" class=\"dataframe\">\n",
       "  <thead>\n",
       "    <tr style=\"text-align: right;\">\n",
       "      <th></th>\n",
       "      <th>username</th>\n",
       "      <th>animes_rated</th>\n",
       "      <th>user_id</th>\n",
       "      <th>user_watching</th>\n",
       "      <th>user_completed</th>\n",
       "      <th>user_onhold</th>\n",
       "      <th>user_dropped</th>\n",
       "      <th>user_plantowatch</th>\n",
       "      <th>user_days_spent_watching</th>\n",
       "      <th>gender</th>\n",
       "      <th>location</th>\n",
       "      <th>birth_date</th>\n",
       "      <th>access_rank</th>\n",
       "      <th>join_date</th>\n",
       "      <th>last_online</th>\n",
       "      <th>stats_mean_score</th>\n",
       "      <th>stats_rewatched</th>\n",
       "      <th>stats_episodes</th>\n",
       "    </tr>\n",
       "  </thead>\n",
       "  <tbody>\n",
       "    <tr>\n",
       "      <th>0</th>\n",
       "      <td>kit_kat</td>\n",
       "      <td>1</td>\n",
       "      <td>253267</td>\n",
       "      <td>0</td>\n",
       "      <td>1</td>\n",
       "      <td>0</td>\n",
       "      <td>0</td>\n",
       "      <td>0</td>\n",
       "      <td>0.766667</td>\n",
       "      <td>Female</td>\n",
       "      <td>on my but ^-^</td>\n",
       "      <td>1997-04-27 00:00:00</td>\n",
       "      <td>NaN</td>\n",
       "      <td>2009-10-31 00:00:00</td>\n",
       "      <td>2009-10-31 17:28:00</td>\n",
       "      <td>9.0</td>\n",
       "      <td>3.0</td>\n",
       "      <td>46</td>\n",
       "    </tr>\n",
       "    <tr>\n",
       "      <th>1</th>\n",
       "      <td>JMc_SetoKai_LoVe</td>\n",
       "      <td>1</td>\n",
       "      <td>263803</td>\n",
       "      <td>0</td>\n",
       "      <td>1</td>\n",
       "      <td>0</td>\n",
       "      <td>0</td>\n",
       "      <td>0</td>\n",
       "      <td>0.722222</td>\n",
       "      <td>Female</td>\n",
       "      <td>Guatemala</td>\n",
       "      <td>1993-05-29 00:00:00</td>\n",
       "      <td>NaN</td>\n",
       "      <td>2009-11-28 00:00:00</td>\n",
       "      <td>2009-12-22 21:45:00</td>\n",
       "      <td>9.0</td>\n",
       "      <td>3.0</td>\n",
       "      <td>52</td>\n",
       "    </tr>\n",
       "    <tr>\n",
       "      <th>2</th>\n",
       "      <td>Shirayuki_14</td>\n",
       "      <td>1</td>\n",
       "      <td>402534</td>\n",
       "      <td>1</td>\n",
       "      <td>0</td>\n",
       "      <td>0</td>\n",
       "      <td>0</td>\n",
       "      <td>0</td>\n",
       "      <td>2.950000</td>\n",
       "      <td>Female</td>\n",
       "      <td>North Hollywood, California</td>\n",
       "      <td>1992-06-13 00:00:00</td>\n",
       "      <td>NaN</td>\n",
       "      <td>2010-10-31 00:00:00</td>\n",
       "      <td>2010-10-31 13:28:00</td>\n",
       "      <td>10.0</td>\n",
       "      <td>0.0</td>\n",
       "      <td>177</td>\n",
       "    </tr>\n",
       "    <tr>\n",
       "      <th>3</th>\n",
       "      <td>taijinru</td>\n",
       "      <td>1</td>\n",
       "      <td>10546</td>\n",
       "      <td>1</td>\n",
       "      <td>0</td>\n",
       "      <td>0</td>\n",
       "      <td>0</td>\n",
       "      <td>0</td>\n",
       "      <td>1.366667</td>\n",
       "      <td>Male</td>\n",
       "      <td>tobyhanna</td>\n",
       "      <td>1989-09-02 00:00:00</td>\n",
       "      <td>NaN</td>\n",
       "      <td>2007-08-17 00:00:00</td>\n",
       "      <td>2007-08-17 20:06:00</td>\n",
       "      <td>9.0</td>\n",
       "      <td>0.0</td>\n",
       "      <td>82</td>\n",
       "    </tr>\n",
       "    <tr>\n",
       "      <th>4</th>\n",
       "      <td>carlmike2007</td>\n",
       "      <td>1</td>\n",
       "      <td>118309</td>\n",
       "      <td>0</td>\n",
       "      <td>1</td>\n",
       "      <td>0</td>\n",
       "      <td>0</td>\n",
       "      <td>0</td>\n",
       "      <td>0.590972</td>\n",
       "      <td>Male</td>\n",
       "      <td>Cochin, India</td>\n",
       "      <td>1986-02-08 00:00:00</td>\n",
       "      <td>NaN</td>\n",
       "      <td>2008-11-28 00:00:00</td>\n",
       "      <td>2014-10-12 12:10:00</td>\n",
       "      <td>10.0</td>\n",
       "      <td>0.0</td>\n",
       "      <td>37</td>\n",
       "    </tr>\n",
       "  </tbody>\n",
       "</table>\n",
       "</div>"
      ],
      "text/plain": [
       "           username  animes_rated  user_id  user_watching  user_completed  \\\n",
       "0           kit_kat             1   253267              0               1   \n",
       "1  JMc_SetoKai_LoVe             1   263803              0               1   \n",
       "2      Shirayuki_14             1   402534              1               0   \n",
       "3          taijinru             1    10546              1               0   \n",
       "4      carlmike2007             1   118309              0               1   \n",
       "\n",
       "   user_onhold  user_dropped  user_plantowatch  user_days_spent_watching  \\\n",
       "0            0             0                 0                  0.766667   \n",
       "1            0             0                 0                  0.722222   \n",
       "2            0             0                 0                  2.950000   \n",
       "3            0             0                 0                  1.366667   \n",
       "4            0             0                 0                  0.590972   \n",
       "\n",
       "   gender                     location           birth_date  access_rank  \\\n",
       "0  Female                on my but ^-^  1997-04-27 00:00:00          NaN   \n",
       "1  Female                    Guatemala  1993-05-29 00:00:00          NaN   \n",
       "2  Female  North Hollywood, California  1992-06-13 00:00:00          NaN   \n",
       "3    Male                    tobyhanna  1989-09-02 00:00:00          NaN   \n",
       "4    Male                Cochin, India  1986-02-08 00:00:00          NaN   \n",
       "\n",
       "             join_date          last_online  stats_mean_score  \\\n",
       "0  2009-10-31 00:00:00  2009-10-31 17:28:00               9.0   \n",
       "1  2009-11-28 00:00:00  2009-12-22 21:45:00               9.0   \n",
       "2  2010-10-31 00:00:00  2010-10-31 13:28:00              10.0   \n",
       "3  2007-08-17 00:00:00  2007-08-17 20:06:00               9.0   \n",
       "4  2008-11-28 00:00:00  2014-10-12 12:10:00              10.0   \n",
       "\n",
       "   stats_rewatched  stats_episodes  \n",
       "0              3.0              46  \n",
       "1              3.0              52  \n",
       "2              0.0             177  \n",
       "3              0.0              82  \n",
       "4              0.0              37  "
      ]
     },
     "execution_count": 10,
     "metadata": {},
     "output_type": "execute_result"
    }
   ],
   "source": [
    "UserInfoAndScores.head()"
   ]
  },
  {
   "cell_type": "code",
   "execution_count": 11,
   "metadata": {},
   "outputs": [
    {
     "data": {
      "text/html": [
       "<div>\n",
       "<style scoped>\n",
       "    .dataframe tbody tr th:only-of-type {\n",
       "        vertical-align: middle;\n",
       "    }\n",
       "\n",
       "    .dataframe tbody tr th {\n",
       "        vertical-align: top;\n",
       "    }\n",
       "\n",
       "    .dataframe thead th {\n",
       "        text-align: right;\n",
       "    }\n",
       "</style>\n",
       "<table border=\"1\" class=\"dataframe\">\n",
       "  <thead>\n",
       "    <tr style=\"text-align: right;\">\n",
       "      <th></th>\n",
       "      <th>anime_id</th>\n",
       "      <th>number_of_users</th>\n",
       "    </tr>\n",
       "  </thead>\n",
       "  <tbody>\n",
       "    <tr>\n",
       "      <th>0</th>\n",
       "      <td>1535</td>\n",
       "      <td>81332</td>\n",
       "    </tr>\n",
       "    <tr>\n",
       "      <th>1</th>\n",
       "      <td>1575</td>\n",
       "      <td>67721</td>\n",
       "    </tr>\n",
       "    <tr>\n",
       "      <th>2</th>\n",
       "      <td>226</td>\n",
       "      <td>64486</td>\n",
       "    </tr>\n",
       "    <tr>\n",
       "      <th>3</th>\n",
       "      <td>5114</td>\n",
       "      <td>63649</td>\n",
       "    </tr>\n",
       "    <tr>\n",
       "      <th>4</th>\n",
       "      <td>4224</td>\n",
       "      <td>63278</td>\n",
       "    </tr>\n",
       "  </tbody>\n",
       "</table>\n",
       "</div>"
      ],
      "text/plain": [
       "   anime_id  number_of_users\n",
       "0      1535            81332\n",
       "1      1575            67721\n",
       "2       226            64486\n",
       "3      5114            63649\n",
       "4      4224            63278"
      ]
     },
     "execution_count": 11,
     "metadata": {},
     "output_type": "execute_result"
    }
   ],
   "source": [
    "#Counting how many relevant scores each anime has, resetting the index (so the series could become a DF again) and changing the column names\n",
    "RatedsPerAnime = ScoresDF['anime_id'].value_counts().reset_index().rename(columns={\"anime_id\": \"number_of_users\", \"index\": \"anime_id\"})\n",
    "RatedsPerAnime.head()"
   ]
  },
  {
   "cell_type": "code",
   "execution_count": 12,
   "metadata": {},
   "outputs": [
    {
     "data": {
      "text/html": [
       "<div>\n",
       "<style scoped>\n",
       "    .dataframe tbody tr th:only-of-type {\n",
       "        vertical-align: middle;\n",
       "    }\n",
       "\n",
       "    .dataframe tbody tr th {\n",
       "        vertical-align: top;\n",
       "    }\n",
       "\n",
       "    .dataframe thead th {\n",
       "        text-align: right;\n",
       "    }\n",
       "</style>\n",
       "<table border=\"1\" class=\"dataframe\">\n",
       "  <thead>\n",
       "    <tr style=\"text-align: right;\">\n",
       "      <th></th>\n",
       "      <th>number_of_users</th>\n",
       "      <th>no_of_anime_rated</th>\n",
       "    </tr>\n",
       "  </thead>\n",
       "  <tbody>\n",
       "    <tr>\n",
       "      <th>443</th>\n",
       "      <td>1</td>\n",
       "      <td>3</td>\n",
       "    </tr>\n",
       "    <tr>\n",
       "      <th>24</th>\n",
       "      <td>2</td>\n",
       "      <td>11</td>\n",
       "    </tr>\n",
       "    <tr>\n",
       "      <th>26</th>\n",
       "      <td>3</td>\n",
       "      <td>11</td>\n",
       "    </tr>\n",
       "    <tr>\n",
       "      <th>21</th>\n",
       "      <td>4</td>\n",
       "      <td>12</td>\n",
       "    </tr>\n",
       "    <tr>\n",
       "      <th>6</th>\n",
       "      <td>5</td>\n",
       "      <td>16</td>\n",
       "    </tr>\n",
       "  </tbody>\n",
       "</table>\n",
       "</div>"
      ],
      "text/plain": [
       "     number_of_users  no_of_anime_rated\n",
       "443                1                  3\n",
       "24                 2                 11\n",
       "26                 3                 11\n",
       "21                 4                 12\n",
       "6                  5                 16"
      ]
     },
     "execution_count": 12,
     "metadata": {},
     "output_type": "execute_result"
    }
   ],
   "source": [
    "#Grouping users whom had the same amount of animes rated\n",
    "AnimeRatedsAggregated = RatedsPerAnime['number_of_users'].value_counts().reset_index().rename(columns={\"number_of_users\": \"no_of_anime_rated\", \"index\": \"number_of_users\"}).sort_values(by=['number_of_users'])\n",
    "AnimeRatedsAggregated.head()"
   ]
  },
  {
   "cell_type": "code",
   "execution_count": 54,
   "metadata": {},
   "outputs": [
    {
     "data": {
      "image/png": "[encoded data removed]",
      "text/plain": [
       "<Figure size 432x288 with 1 Axes>"
      ]
     },
     "metadata": {
      "needs_background": "light"
     },
     "output_type": "display_data"
    }
   ],
   "source": [
    "#Creating the plots so we can gather information about the distribution of ratings in the sample\n",
    "plt.suptitle(\"no of animes by no of users\", fontsize=13, fontweight=0, color='black', style='italic', y=1.02)\n",
    "plt.plot('number_of_users', 'no_of_anime_rated', data = AnimeRatedsAggregated, color = 'olive')\n",
    "plt.xlabel('Number of users rated')\n",
    "plt.ylabel('Number of animes in that group')\n",
    "plt.xlim(left = 0, right = 2000)\n",
    "plt.show()"
   ]
  },
  {
   "cell_type": "code",
   "execution_count": null,
   "metadata": {},
   "outputs": [],
   "source": []
  }
 ],
 "metadata": {
  "kernelspec": {
   "display_name": "Python 2",
   "language": "python",
   "name": "python2"
  },
  "language_info": {
   "codemirror_mode": {
    "name": "ipython",
    "version": 2
   },
   "file_extension": ".py",
   "mimetype": "text/x-python",
   "name": "python",
   "nbconvert_exporter": "python",
   "pygments_lexer": "ipython2",
   "version": "2.7.15"
  }
 },
 "nbformat": 4,
 "nbformat_minor": 2
}
