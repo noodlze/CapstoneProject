{
 "cells": [
  {
   "cell_type": "code",
   "execution_count": 52,
   "metadata": {},
   "outputs": [],
   "source": [
    "import pandas as pd\n",
    "import matplotlib.pyplot as plt"
   ]
  },
  {
   "cell_type": "markdown",
   "metadata": {},
   "source": [
    "## Cleaning the raw files\n",
    "****"
   ]
  },
  {
   "cell_type": "markdown",
   "metadata": {},
   "source": [
    "### Anime information\n",
    "important data about individual anime providing sufficient information about trends in time about important aspects of anime\n",
    "****\n",
    "Columns explained:\n",
    "\n",
    "    animeID: id of anime as in anime url https://myanimelist.net/anime/1\n",
    "    name: title of anime\n",
    "    premiered: premiered on. default format (season year)\n",
    "    genre: list of genre\n",
    "    type: type of anime (example TV, Movie etc)\n",
    "    episodes: number of episodes\n",
    "    studios: list of studio\n",
    "    source: source of anime (example original, manga, game etc)\n",
    "    scored: score of anime\n",
    "    scoredBy: number of member scored the anime\n",
    "    members: number of member added anime to their list\n",
    "\n",
    "Determined unused columns:\n",
    "- title_english\n",
    "- title_japanese\n",
    "- title_synonyms\n",
    "- image_url\n",
    "- type: TV,OVA,...\n",
    "- aired_string: just string version of aired column's dict(contains from and to dates)\n",
    "- duration\n",
    "- background\n",
    "- broadcast : time the manga is broadcasted\n",
    "- premiered\n",
    "- opening_theme\n",
    "- ending_theme\n",
    "- premiered\n",
    "- licensor\n",
    "- _source_? \n",
    "- _members_?"
   ]
  },
  {
   "cell_type": "code",
   "execution_count": 53,
   "metadata": {},
   "outputs": [
    {
     "name": "stdout",
     "output_type": "stream",
     "text": [
      "<class 'pandas.core.frame.DataFrame'>\n",
      "RangeIndex: 14478 entries, 0 to 14477\n",
      "Data columns (total 31 columns):\n",
      "anime_id          14478 non-null int64\n",
      "title             14478 non-null object\n",
      "title_english     5724 non-null object\n",
      "title_japanese    14443 non-null object\n",
      "title_synonyms    8937 non-null object\n",
      "image_url         14382 non-null object\n",
      "type              14478 non-null object\n",
      "source            14478 non-null object\n",
      "episodes          14478 non-null int64\n",
      "status            14478 non-null object\n",
      "airing            14478 non-null bool\n",
      "aired_string      14478 non-null object\n",
      "aired             14478 non-null object\n",
      "duration          14478 non-null object\n",
      "rating            14478 non-null object\n",
      "score             14478 non-null float64\n",
      "scored_by         14478 non-null int64\n",
      "rank              12904 non-null float64\n",
      "popularity        14478 non-null int64\n",
      "members           14478 non-null int64\n",
      "favorites         14478 non-null int64\n",
      "background        1057 non-null object\n",
      "premiered         4096 non-null object\n",
      "broadcast         4271 non-null object\n",
      "related           14478 non-null object\n",
      "producer          8288 non-null object\n",
      "licensor          3373 non-null object\n",
      "studio            8544 non-null object\n",
      "genre             14414 non-null object\n",
      "opening_theme     14478 non-null object\n",
      "ending_theme      14478 non-null object\n",
      "dtypes: bool(1), float64(2), int64(6), object(22)\n",
      "memory usage: 3.3+ MB\n"
     ]
    }
   ],
   "source": [
    "anime_info_raw = pd.read_csv('myanimelist/AnimeList.csv')\n",
    "anime_info_raw.info()"
   ]
  },
  {
   "cell_type": "code",
   "execution_count": 82,
   "metadata": {},
   "outputs": [
    {
     "data": {
      "text/plain": [
       "Index(['anime_id', 'title', 'source', 'episodes', 'status', 'airing', 'aired',\n",
       "       'rating', 'score', 'scored_by', 'rank', 'popularity', 'members',\n",
       "       'favorites', 'related', 'producer', 'studio', 'genre'],\n",
       "      dtype='object')"
      ]
     },
     "execution_count": 82,
     "metadata": {},
     "output_type": "execute_result"
    }
   ],
   "source": [
    "anime_extracted = anime_info_raw.drop(columns=['aired_string','title_english','title_japanese', \\\n",
    "                                               'title_synonyms','image_url','type','duration', \\\n",
    "                                               'background','premiered','broadcast','opening_theme',\\\n",
    "                                               'ending_theme','licensor'])\n",
    "anime_extracted.columns"
   ]
  },
  {
   "cell_type": "code",
   "execution_count": 54,
   "metadata": {},
   "outputs": [
    {
     "data": {
      "text/plain": [
       "False    12904\n",
       "True      1574\n",
       "Name: rank, dtype: int64"
      ]
     },
     "execution_count": 54,
     "metadata": {},
     "output_type": "execute_result"
    }
   ],
   "source": [
    "anime_info_raw['rank'].isna().value_counts() # contains null values"
   ]
  },
  {
   "cell_type": "code",
   "execution_count": 55,
   "metadata": {},
   "outputs": [
    {
     "data": {
      "text/plain": [
       "False    14478\n",
       "Name: score, dtype: int64"
      ]
     },
     "execution_count": 55,
     "metadata": {},
     "output_type": "execute_result"
    }
   ],
   "source": [
    "anime_info_raw['score'].isna().value_counts() # no null values for score"
   ]
  },
  {
   "cell_type": "code",
   "execution_count": 56,
   "metadata": {
    "scrolled": true
   },
   "outputs": [
    {
     "name": "stdout",
     "output_type": "stream",
     "text": [
      "<class 'pandas.core.frame.DataFrame'>\n",
      "Int64Index: 12904 entries, 0 to 14477\n",
      "Data columns (total 31 columns):\n",
      "anime_id          12904 non-null int64\n",
      "title             12904 non-null object\n",
      "title_english     5282 non-null object\n",
      "title_japanese    12873 non-null object\n",
      "title_synonyms    8257 non-null object\n",
      "image_url         12812 non-null object\n",
      "type              12904 non-null object\n",
      "source            12904 non-null object\n",
      "episodes          12904 non-null int64\n",
      "status            12904 non-null object\n",
      "airing            12904 non-null bool\n",
      "aired_string      12904 non-null object\n",
      "aired             12904 non-null object\n",
      "duration          12904 non-null object\n",
      "rating            12904 non-null object\n",
      "score             12904 non-null float64\n",
      "scored_by         12904 non-null int64\n",
      "rank              12904 non-null float64\n",
      "popularity        12904 non-null int64\n",
      "members           12904 non-null int64\n",
      "favorites         12904 non-null int64\n",
      "background        1036 non-null object\n",
      "premiered         4025 non-null object\n",
      "broadcast         4124 non-null object\n",
      "related           12904 non-null object\n",
      "producer          7247 non-null object\n",
      "licensor          3161 non-null object\n",
      "studio            8009 non-null object\n",
      "genre             12848 non-null object\n",
      "opening_theme     12904 non-null object\n",
      "ending_theme      12904 non-null object\n",
      "dtypes: bool(1), float64(2), int64(6), object(22)\n",
      "memory usage: 3.1+ MB\n"
     ]
    }
   ],
   "source": [
    "drop_na_rank_score = anime_info_raw.dropna(subset=['rank','score'])\n",
    "drop_na_rank_score.info()"
   ]
  },
  {
   "cell_type": "markdown",
   "metadata": {},
   "source": [
    "### User list\n",
    "information about users who watch anime\n",
    "****\n"
   ]
  },
  {
   "cell_type": "code",
   "execution_count": 57,
   "metadata": {},
   "outputs": [
    {
     "name": "stdout",
     "output_type": "stream",
     "text": [
      "<class 'pandas.core.frame.DataFrame'>\n",
      "RangeIndex: 80076112 entries, 0 to 80076111\n",
      "Data columns (total 11 columns):\n",
      "username               object\n",
      "anime_id               int64\n",
      "my_watched_episodes    int64\n",
      "my_start_date          object\n",
      "my_finish_date         object\n",
      "my_score               int64\n",
      "my_status              int64\n",
      "my_rewatching          float64\n",
      "my_rewatching_ep       int64\n",
      "my_last_updated        int64\n",
      "my_tags                object\n",
      "dtypes: float64(1), int64(6), object(4)\n",
      "memory usage: 6.6+ GB\n"
     ]
    }
   ],
   "source": [
    "user_anime_list_raw = pd.read_csv('myanimelist/UserAnimeList.csv')\n",
    "user_anime_list_raw.info()"
   ]
  },
  {
   "cell_type": "markdown",
   "metadata": {},
   "source": [
    "### User anime list\n",
    "contains anime lists of all users\n",
    "****"
   ]
  },
  {
   "cell_type": "code",
   "execution_count": 58,
   "metadata": {},
   "outputs": [
    {
     "name": "stdout",
     "output_type": "stream",
     "text": [
      "<class 'pandas.core.frame.DataFrame'>\n",
      "RangeIndex: 302675 entries, 0 to 302674\n",
      "Data columns (total 17 columns):\n",
      "username                    302674 non-null object\n",
      "user_id                     302675 non-null int64\n",
      "user_watching               302675 non-null int64\n",
      "user_completed              302675 non-null int64\n",
      "user_onhold                 302675 non-null int64\n",
      "user_dropped                302675 non-null int64\n",
      "user_plantowatch            302675 non-null int64\n",
      "user_days_spent_watching    302675 non-null float64\n",
      "gender                      217800 non-null object\n",
      "location                    156774 non-null object\n",
      "birth_date                  168749 non-null object\n",
      "access_rank                 0 non-null float64\n",
      "join_date                   302546 non-null object\n",
      "last_online                 302546 non-null object\n",
      "stats_mean_score            302546 non-null float64\n",
      "stats_rewatched             302546 non-null float64\n",
      "stats_episodes              302546 non-null float64\n",
      "dtypes: float64(5), int64(6), object(6)\n",
      "memory usage: 39.3+ MB\n"
     ]
    }
   ],
   "source": [
    "user_list_raw = pd.read_csv('myanimelist/UserList.csv')\n",
    "user_list_raw.info()"
   ]
  },
  {
   "cell_type": "markdown",
   "metadata": {},
   "source": [
    "### using cleaned data"
   ]
  },
  {
   "cell_type": "code",
   "execution_count": 59,
   "metadata": {},
   "outputs": [
    {
     "name": "stdout",
     "output_type": "stream",
     "text": [
      "<class 'pandas.core.frame.DataFrame'>\n",
      "RangeIndex: 6668 entries, 0 to 6667\n",
      "Data columns (total 33 columns):\n",
      "anime_id           6668 non-null int64\n",
      "title              6668 non-null object\n",
      "title_english      3438 non-null object\n",
      "title_japanese     6663 non-null object\n",
      "title_synonyms     4481 non-null object\n",
      "image_url          6666 non-null object\n",
      "type               6668 non-null object\n",
      "source             6668 non-null object\n",
      "episodes           6668 non-null int64\n",
      "status             6668 non-null object\n",
      "airing             6668 non-null bool\n",
      "aired_string       6668 non-null object\n",
      "aired              6668 non-null object\n",
      "duration           6668 non-null object\n",
      "rating             6668 non-null object\n",
      "score              6668 non-null float64\n",
      "scored_by          6668 non-null int64\n",
      "rank               6312 non-null float64\n",
      "popularity         6668 non-null int64\n",
      "members            6668 non-null int64\n",
      "favorites          6668 non-null int64\n",
      "background         813 non-null object\n",
      "premiered          2966 non-null object\n",
      "broadcast          2980 non-null object\n",
      "related            6668 non-null object\n",
      "producer           4402 non-null object\n",
      "licensor           2787 non-null object\n",
      "studio             6668 non-null object\n",
      "genre              6664 non-null object\n",
      "opening_theme      6668 non-null object\n",
      "ending_theme       6668 non-null object\n",
      "duration_min       6668 non-null float64\n",
      "aired_from_year    6668 non-null float64\n",
      "dtypes: bool(1), float64(4), int64(6), object(22)\n",
      "memory usage: 1.6+ MB\n"
     ]
    }
   ],
   "source": [
    "AnimesDF = pd.read_csv('myanimelist/anime_cleaned.csv')\n",
    "AnimesDF.info()"
   ]
  },
  {
   "cell_type": "code",
   "execution_count": 60,
   "metadata": {
    "scrolled": true
   },
   "outputs": [
    {
     "name": "stdout",
     "output_type": "stream",
     "text": [
      "<class 'pandas.core.frame.DataFrame'>\n",
      "RangeIndex: 108711 entries, 0 to 108710\n",
      "Data columns (total 17 columns):\n",
      "username                    108710 non-null object\n",
      "user_id                     108711 non-null int64\n",
      "user_watching               108711 non-null int64\n",
      "user_completed              108711 non-null int64\n",
      "user_onhold                 108711 non-null int64\n",
      "user_dropped                108711 non-null int64\n",
      "user_plantowatch            108711 non-null int64\n",
      "user_days_spent_watching    108711 non-null float64\n",
      "gender                      108711 non-null object\n",
      "location                    108706 non-null object\n",
      "birth_date                  108711 non-null object\n",
      "access_rank                 0 non-null float64\n",
      "join_date                   108711 non-null object\n",
      "last_online                 108711 non-null object\n",
      "stats_mean_score            108711 non-null float64\n",
      "stats_rewatched             108711 non-null float64\n",
      "stats_episodes              108711 non-null int64\n",
      "dtypes: float64(4), int64(7), object(6)\n",
      "memory usage: 14.1+ MB\n"
     ]
    }
   ],
   "source": [
    "UsersDF = pd.read_csv('myanimelist/users_cleaned.csv')\n",
    "UsersDF.info()"
   ]
  },
  {
   "cell_type": "code",
   "execution_count": 61,
   "metadata": {},
   "outputs": [
    {
     "name": "stdout",
     "output_type": "stream",
     "text": [
      "<class 'pandas.core.frame.DataFrame'>\n",
      "RangeIndex: 31284030 entries, 0 to 31284029\n",
      "Data columns (total 11 columns):\n",
      "username               object\n",
      "anime_id               int64\n",
      "my_watched_episodes    int64\n",
      "my_start_date          object\n",
      "my_finish_date         object\n",
      "my_score               int64\n",
      "my_status              int64\n",
      "my_rewatching          float64\n",
      "my_rewatching_ep       int64\n",
      "my_last_updated        object\n",
      "my_tags                object\n",
      "dtypes: float64(1), int64(5), object(5)\n",
      "memory usage: 2.6+ GB\n"
     ]
    }
   ],
   "source": [
    "ScoresDF = pd.read_csv('myanimelist/animelists_cleaned.csv')\n",
    "ScoresDF.info()\n",
    "#only take the columns that are important for the recommendation system\n",
    "ScoresDF = ScoresDF[['username', 'anime_id', 'my_score', 'my_status']]"
   ]
  },
  {
   "cell_type": "code",
   "execution_count": 62,
   "metadata": {},
   "outputs": [],
   "source": [
    "#Counting how many relevant scores each user have done, resetting the index (so the series could become a DF again) and changing the column names\n",
    "UsersAndScores = ScoresDF['username'].value_counts().reset_index().rename(columns={\"username\": \"animes_rated\", \"index\": \"username\"})"
   ]
  },
  {
   "cell_type": "code",
   "execution_count": 63,
   "metadata": {},
   "outputs": [
    {
     "name": "stdout",
     "output_type": "stream",
     "text": [
      "\n",
      "All users and no. of animes rated:\n",
      "\n",
      "<class 'pandas.core.frame.DataFrame'>\n",
      "Int64Index: 108709 entries, 108708 to 0\n",
      "Data columns (total 2 columns):\n",
      "username        108709 non-null object\n",
      "animes_rated    108709 non-null int64\n",
      "dtypes: int64(1), object(1)\n",
      "memory usage: 2.5+ MB\n",
      "None\n",
      "username        ----phoebelyn\n",
      "animes_rated                1\n",
      "dtype: object\n",
      "username        zzzzz-chan\n",
      "animes_rated          6536\n",
      "dtype: object\n",
      "287.7755015684074\n",
      "\n",
      "No of users grouped by no of animes rate:\n",
      "\n",
      "   animes_rated  no of users who made this many ratings\n",
      "0             1                                     248\n",
      "1             2                                     425\n",
      "2             3                                     516\n",
      "3             4                                     504\n",
      "4             5                                     517\n"
     ]
    },
    {
     "data": {
      "text/html": [
       "<div>\n",
       "<style scoped>\n",
       "    .dataframe tbody tr th:only-of-type {\n",
       "        vertical-align: middle;\n",
       "    }\n",
       "\n",
       "    .dataframe tbody tr th {\n",
       "        vertical-align: top;\n",
       "    }\n",
       "\n",
       "    .dataframe thead th {\n",
       "        text-align: right;\n",
       "    }\n",
       "</style>\n",
       "<table border=\"1\" class=\"dataframe\">\n",
       "  <thead>\n",
       "    <tr style=\"text-align: right;\">\n",
       "      <th></th>\n",
       "      <th>animes_rated</th>\n",
       "      <th>no of users who made this many ratings</th>\n",
       "    </tr>\n",
       "  </thead>\n",
       "  <tbody>\n",
       "    <tr>\n",
       "      <th>2135</th>\n",
       "      <td>5234</td>\n",
       "      <td>1</td>\n",
       "    </tr>\n",
       "    <tr>\n",
       "      <th>2136</th>\n",
       "      <td>5912</td>\n",
       "      <td>1</td>\n",
       "    </tr>\n",
       "    <tr>\n",
       "      <th>2137</th>\n",
       "      <td>5923</td>\n",
       "      <td>1</td>\n",
       "    </tr>\n",
       "    <tr>\n",
       "      <th>2138</th>\n",
       "      <td>6367</td>\n",
       "      <td>1</td>\n",
       "    </tr>\n",
       "    <tr>\n",
       "      <th>2139</th>\n",
       "      <td>6536</td>\n",
       "      <td>1</td>\n",
       "    </tr>\n",
       "  </tbody>\n",
       "</table>\n",
       "</div>"
      ],
      "text/plain": [
       "      animes_rated  no of users who made this many ratings\n",
       "2135          5234                                       1\n",
       "2136          5912                                       1\n",
       "2137          5923                                       1\n",
       "2138          6367                                       1\n",
       "2139          6536                                       1"
      ]
     },
     "execution_count": 63,
     "metadata": {},
     "output_type": "execute_result"
    }
   ],
   "source": [
    "UsersAndScores.sort_values(by=['animes_rated'], inplace=True)\n",
    "print(\"\\nAll users and no. of animes rated:\\n\")\n",
    "print(UsersAndScores.info())\n",
    "print(UsersAndScores.min())\n",
    "print(UsersAndScores.max())\n",
    "print(UsersAndScores['animes_rated'].mean())\n",
    "animes_rated_user_count=UsersAndScores.groupby('animes_rated').size().reset_index(name='no of users who made this many ratings')\n",
    "print(\"\\nNo of users grouped by no of animes rate:\\n\")\n",
    "print(animes_rated_user_count.head())\n",
    "animes_rated_user_count.tail()"
   ]
  },
  {
   "cell_type": "code",
   "execution_count": 64,
   "metadata": {},
   "outputs": [
    {
     "name": "stdout",
     "output_type": "stream",
     "text": [
      "\n",
      "Users who rated 100+ animes:\n",
      "\n",
      "         username  animes_rated\n",
      "76884       KIIEA           100\n",
      "76882       Mumen           100\n",
      "76881   blazedEVH           100\n",
      "76873  MissJC1987           100\n",
      "76879        Amui           100\n",
      "<class 'pandas.core.frame.DataFrame'>\n",
      "Int64Index: 77049 entries, 76884 to 0\n",
      "Data columns (total 2 columns):\n",
      "username        77049 non-null object\n",
      "animes_rated    77049 non-null int64\n",
      "dtypes: int64(1), object(1)\n",
      "memory usage: 1.8+ MB\n",
      "None\n",
      "       animes_rated\n",
      "count  77049.000000\n",
      "mean     387.242768\n",
      "std      323.903729\n",
      "min      100.000000\n",
      "25%      180.000000\n",
      "50%      291.000000\n",
      "75%      481.000000\n",
      "max     6536.000000\n"
     ]
    }
   ],
   "source": [
    "UsersWith100plusRatings=UsersAndScores.loc[UsersAndScores['animes_rated'] >= 100]\n",
    "print(\"\\nUsers who rated 100+ animes:\\n\")\n",
    "print(UsersWith100plusRatings.head())\n",
    "print(UsersWith100plusRatings.info())\n",
    "print(UsersWith100plusRatings.describe())"
   ]
  },
  {
   "cell_type": "code",
   "execution_count": 65,
   "metadata": {},
   "outputs": [
    {
     "data": {
      "image/png": "[encoded data removed]",
      "text/plain": [
       "<Figure size 432x288 with 1 Axes>"
      ]
     },
     "metadata": {
      "needs_background": "light"
     },
     "output_type": "display_data"
    }
   ],
   "source": [
    "plt.suptitle(\"Distribution of no of animes rated by users\", fontsize=13, fontweight=0, color='black', style='italic', y=1.02)\n",
    "plt.plot('animes_rated', 'no of users who made this many ratings', data = animes_rated_user_count, color = 'blue')\n",
    "plt.xlabel('Number of animes rated')\n",
    "plt.ylabel('Number of people in that group')\n",
    "plt.xlim(left = 0, right = 2000)\n",
    "plt.show()"
   ]
  },
  {
   "cell_type": "code",
   "execution_count": 66,
   "metadata": {},
   "outputs": [],
   "source": [
    "# merge user info and usersAndScore(no of animes they rated) tables\n",
    "UserInfoAndScores = pd.merge(UsersAndScores, UsersDF, left_on = 'username', right_on = 'username', how = 'inner')"
   ]
  },
  {
   "cell_type": "code",
   "execution_count": 67,
   "metadata": {},
   "outputs": [
    {
     "data": {
      "text/html": [
       "<div>\n",
       "<style scoped>\n",
       "    .dataframe tbody tr th:only-of-type {\n",
       "        vertical-align: middle;\n",
       "    }\n",
       "\n",
       "    .dataframe tbody tr th {\n",
       "        vertical-align: top;\n",
       "    }\n",
       "\n",
       "    .dataframe thead th {\n",
       "        text-align: right;\n",
       "    }\n",
       "</style>\n",
       "<table border=\"1\" class=\"dataframe\">\n",
       "  <thead>\n",
       "    <tr style=\"text-align: right;\">\n",
       "      <th></th>\n",
       "      <th>username</th>\n",
       "      <th>animes_rated</th>\n",
       "      <th>user_id</th>\n",
       "      <th>user_watching</th>\n",
       "      <th>user_completed</th>\n",
       "      <th>user_onhold</th>\n",
       "      <th>user_dropped</th>\n",
       "      <th>user_plantowatch</th>\n",
       "      <th>user_days_spent_watching</th>\n",
       "      <th>gender</th>\n",
       "      <th>location</th>\n",
       "      <th>birth_date</th>\n",
       "      <th>access_rank</th>\n",
       "      <th>join_date</th>\n",
       "      <th>last_online</th>\n",
       "      <th>stats_mean_score</th>\n",
       "      <th>stats_rewatched</th>\n",
       "      <th>stats_episodes</th>\n",
       "    </tr>\n",
       "  </thead>\n",
       "  <tbody>\n",
       "    <tr>\n",
       "      <th>0</th>\n",
       "      <td>foodlove</td>\n",
       "      <td>1</td>\n",
       "      <td>189424</td>\n",
       "      <td>0</td>\n",
       "      <td>1</td>\n",
       "      <td>0</td>\n",
       "      <td>0</td>\n",
       "      <td>0</td>\n",
       "      <td>2.783333</td>\n",
       "      <td>Female</td>\n",
       "      <td>phoenix, arizona</td>\n",
       "      <td>1993-06-08 00:00:00</td>\n",
       "      <td>NaN</td>\n",
       "      <td>2009-06-02 00:00:00</td>\n",
       "      <td>2010-11-24 22:42:00</td>\n",
       "      <td>0.0</td>\n",
       "      <td>0.0</td>\n",
       "      <td>167</td>\n",
       "    </tr>\n",
       "    <tr>\n",
       "      <th>1</th>\n",
       "      <td>yuki-kun</td>\n",
       "      <td>1</td>\n",
       "      <td>81972</td>\n",
       "      <td>0</td>\n",
       "      <td>1</td>\n",
       "      <td>0</td>\n",
       "      <td>0</td>\n",
       "      <td>0</td>\n",
       "      <td>0.850000</td>\n",
       "      <td>Male</td>\n",
       "      <td>kanagawa prefecture</td>\n",
       "      <td>1993-04-09 00:00:00</td>\n",
       "      <td>NaN</td>\n",
       "      <td>2008-08-01 00:00:00</td>\n",
       "      <td>2009-09-04 03:11:00</td>\n",
       "      <td>10.0</td>\n",
       "      <td>0.0</td>\n",
       "      <td>51</td>\n",
       "    </tr>\n",
       "    <tr>\n",
       "      <th>2</th>\n",
       "      <td>star12349999</td>\n",
       "      <td>1</td>\n",
       "      <td>227967</td>\n",
       "      <td>1</td>\n",
       "      <td>0</td>\n",
       "      <td>0</td>\n",
       "      <td>0</td>\n",
       "      <td>0</td>\n",
       "      <td>0.607639</td>\n",
       "      <td>Female</td>\n",
       "      <td>Wesley Chapel,Florida</td>\n",
       "      <td>1997-05-13 00:00:00</td>\n",
       "      <td>NaN</td>\n",
       "      <td>2009-08-30 00:00:00</td>\n",
       "      <td>2009-09-10 21:15:00</td>\n",
       "      <td>10.0</td>\n",
       "      <td>0.0</td>\n",
       "      <td>35</td>\n",
       "    </tr>\n",
       "    <tr>\n",
       "      <th>3</th>\n",
       "      <td>mewnightfall</td>\n",
       "      <td>1</td>\n",
       "      <td>504798</td>\n",
       "      <td>0</td>\n",
       "      <td>1</td>\n",
       "      <td>0</td>\n",
       "      <td>0</td>\n",
       "      <td>0</td>\n",
       "      <td>0.850000</td>\n",
       "      <td>Female</td>\n",
       "      <td>Parma,Ohio</td>\n",
       "      <td>1994-12-25 00:00:00</td>\n",
       "      <td>NaN</td>\n",
       "      <td>2011-06-28 00:00:00</td>\n",
       "      <td>2011-06-28 07:57:00</td>\n",
       "      <td>7.0</td>\n",
       "      <td>0.0</td>\n",
       "      <td>51</td>\n",
       "    </tr>\n",
       "    <tr>\n",
       "      <th>4</th>\n",
       "      <td>khrluver</td>\n",
       "      <td>1</td>\n",
       "      <td>353836</td>\n",
       "      <td>1</td>\n",
       "      <td>0</td>\n",
       "      <td>0</td>\n",
       "      <td>0</td>\n",
       "      <td>0</td>\n",
       "      <td>3.200000</td>\n",
       "      <td>Female</td>\n",
       "      <td>Los Angeles, CA</td>\n",
       "      <td>1996-12-13 00:00:00</td>\n",
       "      <td>NaN</td>\n",
       "      <td>2010-07-11 00:00:00</td>\n",
       "      <td>2010-09-01 23:04:00</td>\n",
       "      <td>10.0</td>\n",
       "      <td>5.0</td>\n",
       "      <td>192</td>\n",
       "    </tr>\n",
       "  </tbody>\n",
       "</table>\n",
       "</div>"
      ],
      "text/plain": [
       "       username  animes_rated  user_id  user_watching  user_completed  \\\n",
       "0      foodlove             1   189424              0               1   \n",
       "1      yuki-kun             1    81972              0               1   \n",
       "2  star12349999             1   227967              1               0   \n",
       "3  mewnightfall             1   504798              0               1   \n",
       "4      khrluver             1   353836              1               0   \n",
       "\n",
       "   user_onhold  user_dropped  user_plantowatch  user_days_spent_watching  \\\n",
       "0            0             0                 0                  2.783333   \n",
       "1            0             0                 0                  0.850000   \n",
       "2            0             0                 0                  0.607639   \n",
       "3            0             0                 0                  0.850000   \n",
       "4            0             0                 0                  3.200000   \n",
       "\n",
       "   gender               location           birth_date  access_rank  \\\n",
       "0  Female       phoenix, arizona  1993-06-08 00:00:00          NaN   \n",
       "1    Male    kanagawa prefecture  1993-04-09 00:00:00          NaN   \n",
       "2  Female  Wesley Chapel,Florida  1997-05-13 00:00:00          NaN   \n",
       "3  Female             Parma,Ohio  1994-12-25 00:00:00          NaN   \n",
       "4  Female        Los Angeles, CA  1996-12-13 00:00:00          NaN   \n",
       "\n",
       "             join_date          last_online  stats_mean_score  \\\n",
       "0  2009-06-02 00:00:00  2010-11-24 22:42:00               0.0   \n",
       "1  2008-08-01 00:00:00  2009-09-04 03:11:00              10.0   \n",
       "2  2009-08-30 00:00:00  2009-09-10 21:15:00              10.0   \n",
       "3  2011-06-28 00:00:00  2011-06-28 07:57:00               7.0   \n",
       "4  2010-07-11 00:00:00  2010-09-01 23:04:00              10.0   \n",
       "\n",
       "   stats_rewatched  stats_episodes  \n",
       "0              0.0             167  \n",
       "1              0.0              51  \n",
       "2              0.0              35  \n",
       "3              0.0              51  \n",
       "4              5.0             192  "
      ]
     },
     "execution_count": 67,
     "metadata": {},
     "output_type": "execute_result"
    }
   ],
   "source": [
    "UserInfoAndScores.head()"
   ]
  },
  {
   "cell_type": "code",
   "execution_count": 68,
   "metadata": {},
   "outputs": [
    {
     "data": {
      "text/html": [
       "<div>\n",
       "<style scoped>\n",
       "    .dataframe tbody tr th:only-of-type {\n",
       "        vertical-align: middle;\n",
       "    }\n",
       "\n",
       "    .dataframe tbody tr th {\n",
       "        vertical-align: top;\n",
       "    }\n",
       "\n",
       "    .dataframe thead th {\n",
       "        text-align: right;\n",
       "    }\n",
       "</style>\n",
       "<table border=\"1\" class=\"dataframe\">\n",
       "  <thead>\n",
       "    <tr style=\"text-align: right;\">\n",
       "      <th></th>\n",
       "      <th>anime_id</th>\n",
       "      <th>number_of_users</th>\n",
       "    </tr>\n",
       "  </thead>\n",
       "  <tbody>\n",
       "    <tr>\n",
       "      <th>0</th>\n",
       "      <td>1535</td>\n",
       "      <td>81332</td>\n",
       "    </tr>\n",
       "    <tr>\n",
       "      <th>1</th>\n",
       "      <td>1575</td>\n",
       "      <td>67721</td>\n",
       "    </tr>\n",
       "    <tr>\n",
       "      <th>2</th>\n",
       "      <td>226</td>\n",
       "      <td>64486</td>\n",
       "    </tr>\n",
       "    <tr>\n",
       "      <th>3</th>\n",
       "      <td>5114</td>\n",
       "      <td>63649</td>\n",
       "    </tr>\n",
       "    <tr>\n",
       "      <th>4</th>\n",
       "      <td>4224</td>\n",
       "      <td>63278</td>\n",
       "    </tr>\n",
       "  </tbody>\n",
       "</table>\n",
       "</div>"
      ],
      "text/plain": [
       "   anime_id  number_of_users\n",
       "0      1535            81332\n",
       "1      1575            67721\n",
       "2       226            64486\n",
       "3      5114            63649\n",
       "4      4224            63278"
      ]
     },
     "execution_count": 68,
     "metadata": {},
     "output_type": "execute_result"
    }
   ],
   "source": [
    "#Counting how many relevant scores each anime has, resetting the index (so the series could become a DF again) and changing the column names\n",
    "RatedsPerAnime = ScoresDF['anime_id'].value_counts().reset_index().rename(columns={\"anime_id\": \"number_of_users\", \"index\": \"anime_id\"})\n",
    "RatedsPerAnime.head()"
   ]
  },
  {
   "cell_type": "code",
   "execution_count": 69,
   "metadata": {},
   "outputs": [
    {
     "data": {
      "text/html": [
       "<div>\n",
       "<style scoped>\n",
       "    .dataframe tbody tr th:only-of-type {\n",
       "        vertical-align: middle;\n",
       "    }\n",
       "\n",
       "    .dataframe tbody tr th {\n",
       "        vertical-align: top;\n",
       "    }\n",
       "\n",
       "    .dataframe thead th {\n",
       "        text-align: right;\n",
       "    }\n",
       "</style>\n",
       "<table border=\"1\" class=\"dataframe\">\n",
       "  <thead>\n",
       "    <tr style=\"text-align: right;\">\n",
       "      <th></th>\n",
       "      <th>number_of_users</th>\n",
       "      <th>no_of_anime_rated</th>\n",
       "    </tr>\n",
       "  </thead>\n",
       "  <tbody>\n",
       "    <tr>\n",
       "      <th>443</th>\n",
       "      <td>1</td>\n",
       "      <td>3</td>\n",
       "    </tr>\n",
       "    <tr>\n",
       "      <th>24</th>\n",
       "      <td>2</td>\n",
       "      <td>11</td>\n",
       "    </tr>\n",
       "    <tr>\n",
       "      <th>26</th>\n",
       "      <td>3</td>\n",
       "      <td>11</td>\n",
       "    </tr>\n",
       "    <tr>\n",
       "      <th>21</th>\n",
       "      <td>4</td>\n",
       "      <td>12</td>\n",
       "    </tr>\n",
       "    <tr>\n",
       "      <th>6</th>\n",
       "      <td>5</td>\n",
       "      <td>16</td>\n",
       "    </tr>\n",
       "  </tbody>\n",
       "</table>\n",
       "</div>"
      ],
      "text/plain": [
       "     number_of_users  no_of_anime_rated\n",
       "443                1                  3\n",
       "24                 2                 11\n",
       "26                 3                 11\n",
       "21                 4                 12\n",
       "6                  5                 16"
      ]
     },
     "execution_count": 69,
     "metadata": {},
     "output_type": "execute_result"
    }
   ],
   "source": [
    "#Grouping users whom had the same amount of animes rated\n",
    "AnimeRatedsAggregated = RatedsPerAnime['number_of_users'].value_counts().reset_index().rename(columns={\"number_of_users\": \"no_of_anime_rated\", \"index\": \"number_of_users\"}).sort_values(by=['number_of_users'])\n",
    "AnimeRatedsAggregated.head()"
   ]
  },
  {
   "cell_type": "code",
   "execution_count": 70,
   "metadata": {},
   "outputs": [
    {
     "data": {
      "image/png": "[encoded data removed]",
      "text/plain": [
       "<Figure size 432x288 with 1 Axes>"
      ]
     },
     "metadata": {
      "needs_background": "light"
     },
     "output_type": "display_data"
    }
   ],
   "source": [
    "#Creating the plots so we can gather information about the distribution of ratings in the sample\n",
    "plt.suptitle(\"Distribution of animes\", fontsize=13, fontweight=0, color='black', style='italic', y=1.02)\n",
    "plt.plot('number_of_users', 'no_of_anime_rated', data = AnimeRatedsAggregated, color = 'olive')\n",
    "plt.xlabel('Number of users rated')\n",
    "plt.ylabel('Number of animes in that group')\n",
    "plt.xlim(left = 0, right = 2000)\n",
    "plt.show()"
   ]
  },
  {
   "cell_type": "code",
   "execution_count": null,
   "metadata": {},
   "outputs": [],
   "source": []
  }
 ],
 "metadata": {
  "kernelspec": {
   "display_name": "Python 3",
   "language": "python",
   "name": "python3"
  },
  "language_info": {
   "codemirror_mode": {
    "name": "ipython",
    "version": 3
   },
   "file_extension": ".py",
   "mimetype": "text/x-python",
   "name": "python",
   "nbconvert_exporter": "python",
   "pygments_lexer": "ipython3",
   "version": "3.7.2"
  }
 },
 "nbformat": 4,
 "nbformat_minor": 2
}
